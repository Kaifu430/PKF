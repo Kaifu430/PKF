{
 "cells": [
  {
   "cell_type": "markdown",
   "id": "14b74968",
   "metadata": {},
   "source": [
    "## STA130 Homework 02\n",
    "\n",
    "Please see the course [wiki-textbook](https://github.com/pointOfive/stat130chat130/wiki) for the list of topics covered in this homework assignment, and a list of topics that might appear during ChatBot conversations which are \"out of scope\" for the purposes of this homework assignment (and hence can be safely ignored if encountered)"
   ]
  },
  {
   "cell_type": "markdown",
   "id": "f014006ff8809433",
   "metadata": {},
   "source": [
    "<details class=\"details-example\"><summary style=\"color:blue\"><u>Introduction</u></summary>\n",
    "\n",
    "### Introduction\n",
    "    \n",
    "A reasonable characterization of STA130 Homework is that it simply defines a weekly reading comprehension assignment. \n",
    "Indeed, STA130 Homework essentially boils down to completing various understanding confirmation exercises oriented around coding and writing tasks.\n",
    "However, rather than reading a textbook, STA130 Homework is based on ChatBots so students can interactively follow up to clarify questions or confusion that they may still have regarding learning objective assignments.\n",
    "\n",
    "> Communication is a fundamental skill underlying statistics and data science, so STA130 Homework based on ChatBots helps practice effective two-way communication as part of a \"realistic\" dialogue activity supporting underlying conceptual understanding building. \n",
    "\n",
    "It will likely become increasingly tempting to rely on ChatBots to \"do the work for you\". But when you find yourself frustrated with a ChatBots inability to give you the results you're looking for, this is a \"hint\" that you've become overreliant on the ChatBots. Your objective should not be to have ChatBots \"do the work for you\", but to use ChatBots to help you build your understanding so you can efficiently leverage ChatBots (and other resources) to help you work more efficiently.<br><br>\n",
    "\n",
    "</details>\n",
    "\n",
    "<details class=\"details-example\"><summary style=\"color:blue\"><u>Instructions</u></summary>\n",
    "\n",
    "### Instructions\n",
    "    \n",
    "1. Code and write all your answers (for both the \"Prelecture\" and \"Postlecture\" HW) in a python notebook (in code and markdown cells) \n",
    "    \n",
    "> It is *suggested but not mandatory* that you complete the \"Prelecture\" HW prior to the Monday LEC since (a) all HW is due at the same time; but, (b) completing some of the HW early will mean better readiness for LEC and less of a \"procrastentation cruch\" towards the end of the week...\n",
    "    \n",
    "2. Paste summaries of your ChatBot sessions (including link(s) to chat log histories if you're using ChatGPT) within your notebook\n",
    "    \n",
    "> Create summaries of your ChatBot sessions by using concluding prompts such as \"Please provide a summary of our exchanges here so I can submit them as a record of our interactions as part of a homework assignment\" or, \"Please provide me with the final working verson of the code that we created together\"\n",
    "    \n",
    "3. Save your python jupyter notebook in your own account and \"repo\" on [github.com](github.com) and submit a link to that notebook though Quercus for assignment marking<br><br>\n",
    "\n",
    "</details>\n",
    "\n",
    "<details class=\"details-example\"><summary style=\"color:blue\"><u>Prompt Engineering?</u></summary>\n",
    "    \n",
    "### Prompt Engineering? \n",
    "    \n",
    "The questions (as copy-pasted prompts) are designed to initialize appropriate ChatBot conversations which can be explored in the manner of an interactive and dynamic textbook; but, it is nonetheless **strongly recommendated** that your rephrase the questions in a way that you find natural to ensure a clear understanding of the question. Given sensible prompts the represent a question well, the two primary challenges observed to arise from ChatBots are \n",
    "\n",
    "1. conversations going beyond the intended scope of the material addressed by the question; and, \n",
    "2. unrecoverable confusion as a result of sequential layers logial inquiry that cannot be resolved. \n",
    "\n",
    "In the case of the former (1), adding constraints specifying the limits of considerations of interest tends to be helpful; whereas, the latter (2) is often the result of initial prompting that leads to poor developments in navigating the material, which are likely just best resolve by a \"hard reset\" with a new initial approach to prompting.  Indeed, this is exactly the behavior [hardcoded into copilot](https://answers.microsoft.com/en-us/bing/forum/all/is-this-even-normal/0b6dcab3-7d6c-4373-8efe-d74158af3c00)...\n",
    "\n",
    "</details>"
   ]
  },
  {
   "cell_type": "markdown",
   "id": "161fd459",
   "metadata": {},
   "source": [
    "\n",
    "### Marking Rubric (which may award partial credit) \n",
    "\n",
    "- [0.1 points]: All relevant ChatBot summaries [including link(s) to chat log histories if you're using ChatGPT] are reported within the notebook\n",
    "- [0.3 points]: Assignment completion confirmed by working \"final\" code and ChatBot summaries for \"3\"\n",
    "- [0.3 points]: Written submission evaluation and enagement confirmation with ChatBot summaries for \"6\"\n",
    "- [0.3 points]: Evaluation of engagement and evaluation of written communication in \"7\"\n",
    "        "
   ]
  },
  {
   "cell_type": "markdown",
   "id": "f7ff3f55",
   "metadata": {},
   "source": [
    "### \"Pre-lecture\" HW [*completion prior to next LEC is suggested but not mandatory*]"
   ]
  },
  {
   "cell_type": "markdown",
   "id": "fda8568b",
   "metadata": {},
   "source": [
    "#### 1. Begin (or restart) part \"3(a)\" of the **TUT Demo** and interact with a ChatBot to make sure you understand how each part the Monte Hall problem code above works<br>\n",
    "\n",
    "<details class=\"details-example\"><summary style=\"color:blue\"><u>Further Guidance</u></summary>\n",
    "    \n",
    "> _ChatBots typically explain code fairly effectively, so a ChatBot will probably be very helpful if you share the full Monte Hall problem code; but, you can always introduce more specific and targetted follow-up prompts that help with focus, re-redirection, and response format regarding the ChatBot responses as needed._ \n",
    ">\n",
    "> _ChatBots won't always re-introduce and re-explain the Monte Hall problem itself, so if you need it to do so you may need to specifically request this as part of your prompt or follow up interactions._\n",
    "\n",
    "</details>\n"
   ]
  },
  {
   "cell_type": "markdown",
   "id": "11581881",
   "metadata": {},
   "source": [
    "#### 2. Extend your ChatBot sessions to now address part \"3(b)\" of the **TUT Demo** and interact with your ChatBot to see if it can suggest a simpler, more streamlined way to code up this *for* loop simulation so the process is more clear and easier to understand; then, describe any preferences you have in terms of readibility or explainability  between the original code and the code improvements suggested by the ChatBot<br>\n",
    "\n",
    "<details class=\"details-example\"><summary style=\"color:blue\"><u>Further Guidance</u></summary>\n",
    "    \n",
    "> _The links in the TUT Demo show that there can be variation in the quality of the code improvements suggested by ChatBots; however, it's most likely that a ChatBot is going to be able to greatly reduce the number of steps/lines of code and hence complexity of understanding the problem. ChatBots can provide a good amount of explanation and inline clarifying code comments and provide more simpler more intuitive code that can transform something that looks a bit scary at first to something that's easy to follow and make sense of. Of course, in doing so, a ChatBot may introduce functions that you've technically not learned or seen before; but, the amount of simplification and clarifying comments is probably going to more than compensate for this; and, you'll have seen a learned a little bit more about what's possible through this process, which is the ideal experience we're hoping you'll see here._ \n",
    "    \n",
    "</details>\n",
    "        "
   ]
  },
  {
   "cell_type": "markdown",
   "id": "f3fdebd8",
   "metadata": {},
   "source": [
    "#### 3. Submit your preferred version of the Monty Hall problem that is verified to be running and working with a final printed output of the code; then, add code comments explaining the purpose of each line of the code<br>\n",
    "\n",
    "<details class=\"details-example\"><summary style=\"color:blue\"><u>Further Guidance</u></summary>\n",
    "    \n",
    "> _Your ChatBot will likely do much of this for you, but verify for yourself that you understand each comment and reword comments wherever you think it would be better to explain it differently._\n",
    ">\n",
    "> _Remember to ask for summaries of your current session and paste these into your homework notebook  (including link(s) to chat log histories if you're using ChatGPT)_\n",
    "\n",
    "</details>\n",
    " "
   ]
  },
  {
   "cell_type": "markdown",
   "id": "8ba3ff01",
   "metadata": {},
   "source": [
    "#### 4. Watch the embedded video tutorial on Markov chains in the next Jupyter cell below to understand their application and relevance for ChatBots; then, after watching the video, start a new ChatBot session by prompting that you have code that creates a \"Markovian ChatBot\"; show it the first version of the \"Markovian ChatBot code\" below; and interact with the ChatBot session to make sure you understand how the original first version of the \"Markovian ChatBot code\" works<br>\n",
    "\n",
    "<details class=\"details-example\"><summary style=\"color:blue\"><u>Further Guidance</u></summary>\n",
    "\n",
    "> _If the ChatBot prompts you as to how you will \"train\" your own \"Markovian ChatBot\" you can reply that you'll just use a series of stories with a lot of different characters_\n",
    "> \n",
    "> _Ask for summaries of this second ChatBot session and paste these into your homework notebook (including link(s) to chat log histories if you're using ChatGPT)_\n",
    "    \n",
    "</details>\n",
    "    "
   ]
  },
  {
   "cell_type": "code",
   "execution_count": null,
   "id": "a52754504a625b36",
   "metadata": {},
   "outputs": [],
   "source": [
    "# Markov Chains and Text Generation\n",
    "from IPython.display import YouTubeVideo\n",
    "YouTubeVideo('56mGTszb_iM', width = 550)"
   ]
  },
  {
   "cell_type": "markdown",
   "id": "7a17e608",
   "metadata": {},
   "source": [
    "<details class=\"details-example\"><summary style=\"color:blue\"><u>Continue now...?</u></summary>\n",
    "\n",
    "### Pre-lecture VS Post-lecture HW\n",
    "\n",
    "Feel free to work on the \"Post-lecture\" HW below if you're making good progress and want to continue: for **HW 02** continuing could be reasonable because questions \"5-7\" below directly follow up and extend \"Pre-lecture\" HW question \"4\"\n",
    "\n",
    "*The benefits of continue would are that (a) it might be fun to try to tackle the challenge of working through some problems without additional preparation or guidance; and (b) this is a very valable skill to be comfortable with; and (c) it will let you build experience interacting with ChatBots (and beginning to understand their strengths and limitations in this regard)... it's good to have sense of when using a ChatBot is the best way to figure something out, or if another approach (such as course provided resources or a plain old websearch for the right resourse) would be more effective*\n",
    "    \n",
    "</details>    "
   ]
  },
  {
   "cell_type": "markdown",
   "id": "d6ae0a64",
   "metadata": {},
   "source": [
    "### \"Post-lecture\" HW [*submission along with \"Pre-lecture\" HW is due prior to next TUT*]"
   ]
  },
  {
   "cell_type": "markdown",
   "id": "a3979c94",
   "metadata": {},
   "source": [
    "#### 5. Recreate (or resume) the previous ChatBot session from question \"4\" above, and now  prompt the ChatBot session that you have a couple extensions of the code to show it, and then show it each of the extentions of the \"Markovian ChatBot code\" below in turn\n",
    "\n",
    "\n",
    "\n",
    "1. Without just supplying your ChatBot session with the answers, see if the ChatBot can figure out what the extensions in the code do; namely, making character specific Markov chains, and using bigrams (rather than just the previous word alone) dependency... prompt your ChatBot session with some hints if it's not seeming to \"get it\"<br><br>\n",
    "    \n",
    "2. Interact with your ChatBot session to have it explain details of the code wherever you need help understanding what the code is doing and how it works<br><br>\n",
    "    \n",
    "3. Start yet another new ChatBot session and first show the ChatBot the original \"Markovian ChatBot code\" below, and then tell ChatBot that you have an extension but this time just directly provide it the more complicated final extension without ever providing the intermediate extension code to the ChatBot session and see if it's still able to understand everything extension does; namely, making character specific Markov chains, and using bigrams (rather than just the previous word alone) dependency... prompt the ChatBot with some hints if it's not seeming to understand what you're getting at...<br><br>\n",
    "    \n",
    "<details class=\"details-example\"><summary style=\"color:blue\"><u>Further Guidance</u></summary>\n",
    "\n",
    "> **ALERT: Time Warning**. Regarding the comments below (which will likely be relevant and useful for you), you might find the potential learning experience that this provides to be a quite the rabbit total rabbit hole and time sink. You might end up finding out that you spent way more time than I should on learning the code!! So be mindful of your time management as there is much to do for many classes!\n",
    ">    \n",
    "> _As you may or may not have already experienced in the previous problem, a ChatBot applied to this problem is likely to start explaining a bit more knowledge about Python than you need to know (as a student just trying to learn stats+DS); however, you'll probably feel like this \"out of scope\" context information is helpful to know (or at least be aware of) and easy to understand and learn if you use some addtional prompts to dig deeper into them. A ChatBot will be quite good at explaining and helping understand smaller chunks of code; however, if given too much information at once it can gloss over some information._\n",
    ">   \n",
    "> _That said, some topics here are potentially quite and advanced and too tricky! You might be able to ask the ChatBot to simplify its explanations and that might help a bit. But on the other hand, some topics, such as, \"how does `nested_dict = lambda: defaultdict(nested_dict)` work?\" might just simply be too advanced to really admit a simpler explanation via a ChatBot. You'll have to let these sorts of things go, if you come across explanations that just aren't improving or helping at at. In the case of `defaultdict(nested_dict)` specifically, the details here are well beyond the scope of STA130 and can be very safely ignored for now. The code will have reviewed and \"walked thorugh\" in LEC, but the perspectives espoused there will be the extent of the formal commentary and information regarding the coding topics we encounter in the Markov ChatBots code here._\n",
    ">     \n",
    "> _Unlike with the Monte Hall problem, we will not inquire with the ChatBot to see if it can suggest any streamlining, readability, or usability improvements to the alternative versions of the \"Markovian ChatBot code\" we're examining_\n",
    ">     \n",
    "> - _because doing so seems to result in the attempted creation of dubiously functional modular code with a focus on reusability (which is likely a result of ChatBot design being primarily a \"computer science\" topic), so ChatBot reponses here tend to orient around programming and system design principles (despite \"Markovian\" very much being a \"statistics\" topic)_\n",
    ">     \n",
    "> _Programming and system design principles are beyond the scope of STA130; but, they are critical for modern data science careers... if you are interested in pursuing a data science career, it is imperitive that you complete courses like CSC263, CSC373, and perhaps an additional \"systems design\" course_\n",
    "> \n",
    "> ---\n",
    "> \n",
    "> _Don't forget to ask for summaries of all your different ChatBot sessions and organize and paste these into your homework notebook (including link(s) to chat log histories if you're using ChatBot)_\n",
    "    \n",
    "</details>\n",
    "     "
   ]
  },
  {
   "cell_type": "markdown",
   "id": "ab789e3f",
   "metadata": {},
   "source": [
    "1.This ChatBot understand to genrate lines of characters. ChatBot understand that the code is using Markov chains for genration. Although I give ChatBot a hint, it can not figure out.\n",
    "2.I didn't understand this complex code at first, but now I have a general understanding of this code. This code use Markov chains to predict the next word in the sentence.\n",
    "3.I copied and pasted the following code into the chatbot again and added the second required code. He recognized Markov, but he did not recognize Bigrams. After adding some simple hints, he still did not use the Bigrams method. I also tried to learn more about n-grams myself, and then I provided detailed tips on bigrams and n-grams. In the end, the chatbot not only came up with the idea of using bigrams, but also provided methods for n-grams."
   ]
  },
  {
   "cell_type": "markdown",
   "id": "116f0a96",
   "metadata": {},
   "source": [
    "#### 6. Report on your experience interacting with ChatBots to understand the Monte Hall problem and \"Markovian ChatBot\" code\n",
    "\n",
    "1. Discuss how quickly the ChatBot was able to be helpful for each of the above questions, and if so, how?<br><br>\n",
    "    \n",
    "2. Discuss whether or not interacting with ChatBot to try to figure things out was frustrating or unhelpful, and if so, how?<br><br>\n",
    "    \n",
    "3. Based on your experiences to date (e.g., including using ChatBots to troubleshoot coding errors in the previous homework), provide an overall assessment evaluating the usefulness of ChatBots as tools to help you understand code<br>"
   ]
  },
  {
   "cell_type": "markdown",
   "id": "8bd6dc3c",
   "metadata": {},
   "source": [
    "1.ChatBot quickly explained the working principle of this puzzle, briefly introduced the puzzle, and provided a solution.\n",
    "2.ChatBot's explanation is not particularly complete, nor is it as detailed. When I want him to explain to me in detail, he will tell me the content he previously explained in a meaningless way, without using any deeper statistical methods to solve the problem.\n",
    "3.Overall, ChatBot is still very useful as a valuable tool for understanding code and solving problems.It is also strong in summarizing things and extracting key information. Especially for simple problems and learning new concepts. However, for more complex problems, their answers are often inaccurate, incomplete, or misunderstand your meaning. Despite giving them many hints, they still cannot execute the instructions you want them to execute. So I believe that combining ChatBot with other resources such as forums, documents, or mentors can bring better results."
   ]
  },
  {
   "cell_type": "markdown",
   "id": "4642d6c2",
   "metadata": {},
   "source": [
    "#### 7. Reflect on your experience interacting with ChatBot and describe how your perception of AI-driven assistance tools in the context of learning coding, statistics, and data science has been evolving (or not) since joining the course<br><br>\n",
    "\n",
    "<details class=\"details-example\"><summary style=\"color:blue\"><u>Further Guidance</u></summary>\n",
    "    \n",
    "> _Question \"7\" and the next question \"8\" are somewhat related to the first bullet point in the suggested interactions of the \"Afterword\" to the Homework from last week... consider reviewing that if you'd like a little extra orienting around what these questions are trying to have you explore_\n",
    "   \n",
    "</details>"
   ]
  },
  {
   "cell_type": "markdown",
   "id": "27766a53",
   "metadata": {},
   "source": [
    "7.Interacting with artificial intelligence like ChatBot has changed my perception of AI driven assistive tools in multiple ways, especially in the context of learning coding, statistics, and data science.\n",
    "Initially, I may have viewed artificial intelligence tools as answering tools, asking them for answers in various aspects of learning that I didn't understand. However, as my exposure to artificial intelligence increased, I found that sometimes they would give incorrect and inaccurate answers, and even misunderstand my questions. So I began to see it as a more interactive way of learning.\n",
    "Instant feedback or debugging assistance in programming, code, can greatly accelerate the learning process. Similarly, in the fields of statistics and data science, being able to elucidate complex concepts or analyze data in real-time has deepened my understanding and enhanced my confidence. Let me no longer feel afraid of any knowledge I don't know.\n",
    "Overall, my experience suggests that AI driven tools can enhance the learning experience, making it more interactive, responsive, and supportive, and should be widely used in daily life. But we must not rely on it, it would be even better if it could only serve as a helpful tool."
   ]
  },
  {
   "cell_type": "markdown",
   "id": "500f440e",
   "metadata": {},
   "source": [
    "#### 8. ChatBots consume text data available on the web or platforms, and thus represents a new way to \"search consensensus\" that condenses and summarizes mainstream human thought<br><br>\n",
    "\n",
    "1. Start a new ChatBot session and discuss the relevance of learning and adaptability, communication, coding, and statistics and data analysis as skills in the modern world, especially with respect to career opportunities (particularly in the context of the data science industry)<br><br>\n",
    "    \n",
    "2. See if ChatBot thinks you could be a statistician or data scientist without coding or doing data analysis, and then transition your ChatBot conversation into a career exploration discussion, using the ChatBot to identify the skills that might be the most valuable for a career that you're interested<br><br>\n",
    "    \n",
    "3. Ask for a summary of this ChatBot session and paste it into your homework notebook (including link(s) to chat log histories if you're using ChatBot)<br><br>\n",
    "    \n",
    "4. Paraphrase the assessments and conclusions of your conversation in the form of a reflection on your current thoughts regarding your potential future career(s) and how you can go about building the skills you need to pursue it<br><br>\n",
    "\n",
    "5. Give your thoughts regarding the helpfulness or limitations of your conversation with a ChatBot, and describe the next steps you would take to pursue this conversation further if you felt the information the ChatBot provides was somewhat high level and general, and perhaps lacked the depth and detailed knowledge of a dedicated subject matter expert who had really take the time to understand the ins and outs of the industry and career path in question.\n",
    "<br><br>\n",
    "\n",
    "<details class=\"details-example\"><summary style=\"color:blue\"><u>Further Guidance</u></summary>\n",
    "\n",
    "> _While question 8 is not a part of the rubric, it is nonetheless a very good exercise that will likely be valuable for you if you engage it them sincerely_\n",
    "    \n",
    "</details>\n"
   ]
  },
  {
   "cell_type": "markdown",
   "id": "dc0bdd67",
   "metadata": {},
   "source": [
    "2.ChatBot told me that theoretically, it is possible to work in fields related to statistics or data science without coding or data analysis skills, which are typically the foundation of these roles.\n",
    "3.I:Which direction do you think I need to work hard in for my job? If I want to pursue a career in statistics in the future?\n",
    "Chatgpt:If you’re aiming for a career in statistics, here are key areas to focus on:\n",
    "\n",
    "1. Statistical Theory\n",
    "Focus: Deepen your understanding of core statistical concepts, including probability, hypothesis testing, regression analysis, and experimental design.\n",
    "Action: Take relevant courses or certifications that cover these topics in depth.\n",
    "2. Data Analysis Skills\n",
    "Focus: Learn how to analyze and interpret data effectively. Familiarize yourself with different types of data and the appropriate statistical methods for each.\n",
    "Action: Work on projects involving real datasets, using tools like Excel, R, or Python for analysis.\n",
    "3. Coding Proficiency\n",
    "Focus: Gain proficiency in at least one programming language commonly used in statistics (like R or Python). SQL is also beneficial for data manipulation.\n",
    "Action: Practice coding regularly and work on data analysis projects to build your portfolio.\n",
    "4. Communication Skills\n",
    "Focus: Develop the ability to present statistical findings clearly to non-technical audiences.\n",
    "Action: Practice writing reports and giving presentations on your analyses. Seek feedback to improve.\n",
    "5. Practical Experience\n",
    "Focus: Gain hands-on experience through internships, research projects, or collaborations. Real-world application of statistics is invaluable.\n",
    "Action: Look for opportunities in academic settings or industry to apply your statistical knowledge.\n",
    "6. Networking\n",
    "Focus: Build connections in the field through professional organizations or events.\n",
    "Action: Attend conferences, join relevant online communities, and engage with professionals in statistics.\n",
    "Conclusion\n",
    "By concentrating on these areas, you’ll be well-prepared for a career in statistics. Balancing theoretical knowledge with practical skills and experience will enhance your job prospects and effectiveness in the field.\n",
    "I:Can you be more specific and detailed, and provide less aspects?\n",
    "Chatgpt:Got it! Let’s simplify and focus on the most critical areas for pursuing a career in statistics:\n",
    "\n",
    "1. Statistical Knowledge\n",
    "Focus: Learn key concepts like probability, hypothesis testing, and regression.\n",
    "Action: Take an introductory statistics course online (e.g., Coursera, edX).\n",
    "2. Data Analysis Skills\n",
    "Focus: Get comfortable with data cleaning and exploratory data analysis.\n",
    "Action: Work with datasets on platforms like Kaggle and practice using Excel or R/Python.\n",
    "3. Coding Proficiency\n",
    "Focus: Learn R or Python for data analysis.\n",
    "Action: Complete a beginner’s course in R or Python specifically for data science.\n",
    "4. Communication Skills\n",
    "Focus: Improve your ability to present data findings clearly.\n",
    "Action: Practice writing reports and giving presentations on your analyses.\n",
    "5. Practical Experience\n",
    "Focus: Gain hands-on experience through projects or internships.\n",
    "Action: Look for internships or volunteer opportunities that involve statistical analysis.\n",
    "Summary\n",
    "Prioritize statistical knowledge, data analysis, coding, communication, and practical experience. Focus on one or two areas at a time to build your skills progressively.\n",
    "\n",
    "4.Reflecting on my aspirations for the future, I realize the importance of developing key skills to become a successful data analyst. I understand that a solid grasp of statistical concepts, proficiency in tools such as Excel, R, and Python, as well as knowledge of SQL, are essential. In addition, effective communication skills are crucial for clearly conveying insights to stakeholders, and a deep understanding of the business context will help me align data analysis with organizational goals.\n",
    "\n",
    "5.Having a conversation with a chatbot can help you gain a rough understanding of your career path, as it can provide quick insights and extensive advice on basic skills and steps. But I also realize that it has limitations in providing in-depth and personalized guidance for specific situations or subtle aspects of the industry.\n",
    "ChatBot provides some practical methods, but does not provide instructions on how to implement these methods. I will seek opportunities to establish connections and communicate with data analysts or professionals in the field through social events and conferences, in order to gain insights from their experiences. If there is an opportunity to personally practice, I will also try my best to strive for it.\n",
    "\n"
   ]
  },
  {
   "cell_type": "markdown",
   "id": "b489452e",
   "metadata": {},
   "source": [
    "#### 9. Have you reviewed the course [wiki-textbook](https://github.com/pointOfive/stat130chat130/wiki) and interacted with a ChatBot (or, if that wasn't sufficient, real people in the course piazza discussion board or TA office hours) to help you understand all the material in the tutorial and lecture that you didn't quite follow when you first saw it?<br><br>\n",
    "  \n",
    "<details class=\"details-example\"><summary style=\"color:blue\"><u>Further Guidance</u></summary>\n",
    "    \n",
    "> _Just answering \"Yes\" or \"No\" or \"Somewhat\" or \"Mostly\" or whatever here is fine as this question isn't a part of the rubric; but, the midterm and final exams may ask questions that are based on the tutorial and lecture materials; and, your own skills will be limited by your familiarity with these materials (which will determine your ability to actually do actual things effectively with these skills... like the course project...)_\n",
    "    \n",
    "</details>"
   ]
  },
  {
   "cell_type": "markdown",
   "id": "f289fb34",
   "metadata": {},
   "source": [
    "Yes"
   ]
  },
  {
   "cell_type": "code",
   "execution_count": null,
   "id": "16f95257fb4fda6c",
   "metadata": {},
   "outputs": [],
   "source": [
    "# Markovian Chatbot\n",
    "\n",
    "# from collections import defaultdict\n",
    "word_used = dict() # defaultdict(int)\n",
    "next_word = dict() # defaultdict(lambda: defaultdict(int))\n",
    "for i,word in enumerate(words[:-1]):\n",
    "\n",
    "    if word in word_used:\n",
    "        word_used[word] += 1\n",
    "    else:\n",
    "        word_used[word] = 1\n",
    "        next_word[word] = {}\n",
    "\n",
    "    if words[i+1] in next_word[word]:\n",
    "        next_word[word][words[i+1]] += 1\n",
    "    else:\n",
    "        next_word[word][words[i+1]] = 1"
   ]
  },
  {
   "cell_type": "code",
   "execution_count": null,
   "id": "bd0e5d2163411e8e",
   "metadata": {},
   "outputs": [],
   "source": [
    "# Markovian Chatbot Extension #1\n",
    "\n",
    "word_used2 = defaultdict(int)\n",
    "next_word2 = defaultdict(lambda: defaultdict(int))\n",
    "for i,word in enumerate(words[:-2]):\n",
    "    word_used2[word+' '+words[i+1]] += 1\n",
    "    next_word2[word+' '+words[i+1]][words[i+2]] += 1 "
   ]
  },
  {
   "cell_type": "code",
   "execution_count": null,
   "id": "33fe616edecddb60",
   "metadata": {},
   "outputs": [],
   "source": [
    "# Markovian Chatbot Extension #2\n",
    "\n",
    "from collections import Counter, defaultdict\n",
    "# `avatar` is a dataset, and `character` is one of it's columns\n",
    "characters = Counter(\"\\n\"+ avatar.character.str.upper().str.replace(' ','.')+\":\")\n",
    "# this code changes the type of the `character` column to `str`; then,\n",
    "# makes the text uppercase, and replaces spaces with '.'\n",
    "\n",
    "nested_dict = lambda: defaultdict(nested_dict)\n",
    "word_used2C = nested_dict()\n",
    "next_word2C = nested_dict()\n",
    "\n",
    "for i,word in enumerate(words[:-2]):\n",
    "    if word in characters:\n",
    "        character = word\n",
    "        \n",
    "    if character not in word_used2C:\n",
    "        word_used2C[character] = dict()\n",
    "    if word+' '+words[i+1] not in word_used2C[character]:\n",
    "        word_used2C[character][word+' '+words[i+1]] = 0\n",
    "    word_used2C[character][word+' '+words[i+1]] += 1\n",
    "    \n",
    "    if character not in next_word2C:\n",
    "        next_word2C[character] = dict()\n",
    "    if word+' '+words[i+1] not in next_word2C[character]:\n",
    "        next_word2C[character][word+' '+words[i+1]] = dict()\n",
    "    if words[i+2] not in next_word2C[character][word+' '+words[i+1]]:\n",
    "        next_word2C[character][word+' '+words[i+1]][words[i+2]] = 0\n",
    "    next_word2C[character][word+' '+words[i+1]][words[i+2]] += 1"
   ]
  },
  {
   "cell_type": "markdown",
   "id": "1ebfa9b9",
   "metadata": {},
   "source": [
    "## Recommended Additional Useful Activities [Optional]\n",
    "\n",
    "The \"Ethical Profesionalism Considerations\" and \"Current Course Project Capability Level\" sections below **are not a part of the required homework assignment**; rather, they are regular weekly guides covering (a) relevant considerations regarding professional and ethical conduct, and (b) the analysis steps for the STA130 course project that are feasible at the current stage of the course <br><br>\n",
    "\n",
    "\n",
    "<details class=\"details-example\"><summary style=\"color:blue\"><u>Ethical Professionalism Considerations</u></summary>\n",
    "\n",
    "### Ethical Professionalism Considerations\n",
    "\n",
    "    \n",
    "> 1. If you've not heard of the \"reproducibility crisis\" in science, have a ChatBot explain it to you\n",
    "> 2. If you've not heard of the \"open source software\" (versus proprietary software), have a ChatBot explain it to you\n",
    "> 3. \"Reproducibility\" can also be considered at the level of a given data analysis project: can others replicate the results of code or analysis that you've done?\n",
    ">    1. Discuss with a ChatBot how jupyter notebooks and github can be used facilitate transparency and reproducibility in data analysis\n",
    "> 4. Discuss with a ChatBot what the distinction is between replicability of scientific experiments, versus the replicability of a specific data analysis project, and what your responsibility as an analyst should be with respect to both\n",
    "> 5. Do you think proprietary (non \"open source software\") software, such as Microsoft Word, Outlook, and Copilot tends to result in high quality products?  \n",
    ">     1. Do you think software product monopolies (such as the UofT dependence on Microsoft products) makes the world a better place?\n",
    "</details>    \n",
    "\n",
    "<details class=\"details-example\"><summary style=\"color:blue\"><u>Current Course Project Capability Level</u></summary>\n",
    "\n",
    "### Current Course Project Capability Level\n",
    "   \n",
    "**Remember to abide by the [data use agreement](https://static1.squarespace.com/static/60283c2e174c122f8ebe0f39/t/6239c284d610f76fed5a2e69/1647952517436/Data+Use+Agreement+for+the+Canadian+Social+Connection+Survey.pdf) at all times.**\n",
    "\n",
    "Information about the course project is available on the course github repo [here](https://github.com/pointOfive/stat130chat130/tree/main/CP), including a draft [course project specfication](https://github.com/pointOfive/stat130chat130/blob/main/CP/STA130F23_course_project_specification.ipynb) (subject to change). \n",
    "- The Week 01 HW introduced [STA130F24_CourseProject.ipynb](https://github.com/pointOfive/stat130chat130/blob/main/CP/STA130F24_CourseProject.ipynb), and the [available variables](https://drive.google.com/file/d/1ISVymGn-WR1lcRs4psIym2N3or5onNBi/view). \n",
    "- Please do not download the [data](https://drive.google.com/file/d/1mbUQlMTrNYA7Ly5eImVRBn16Ehy9Lggo/view) accessible at the bottom of the [CSCS](https://casch.org/cscs) webpage (or the course github repo) multiple times.\n",
    "\n",
    "> At this point in the course you should be able to create a `for` loop to iterate through and provide **simple summaries** of some of the interesting columns in the course project data\n",
    ">\n",
    "> 1. Create two versions of the code, one for numeric and the other for categorical data,  which provide a printout format that displays relavent summaries and the missing data counts for a given set of (either numerical or categorical) columns being examined\n",
    ">\n",
    "> 2. Combine the two separate `for` loops into a single `for` loop using an `if`/`else` **conditional logic structure** that determines the correct printout format based on the data type of the column under consideration  \n",
    ">     1. *Being able to transform existing code so it's \"resuable\" for different purposes is one version of the programming design principle of \"polymorphism\" (which means \"many forms\" or \"many uses\") [as in the first task above]*\n",
    ">     2. *A better version of the programming design principle of \"polymorphism\" is when the same code can handle different use cases [as in the second tast above]*\n",
    ">     3. *Being able run your code with different subsets of columns as interest in different variables changes is a final form of the programming design principle of \"polymorphism\" that's demonstrated through this exercise*   \n",
    "    \n",
    "</details>        "
   ]
  }
 ],
 "metadata": {
  "kernelspec": {
   "display_name": "Python 3 (ipykernel)",
   "language": "python",
   "name": "python3"
  },
  "language_info": {
   "codemirror_mode": {
    "name": "ipython",
    "version": 3
   },
   "file_extension": ".py",
   "mimetype": "text/x-python",
   "name": "python",
   "nbconvert_exporter": "python",
   "pygments_lexer": "ipython3",
   "version": "3.11.6"
  }
 },
 "nbformat": 4,
 "nbformat_minor": 5
}
