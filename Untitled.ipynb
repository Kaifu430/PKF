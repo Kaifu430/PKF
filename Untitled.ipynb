{
 "cells": [
  {
   "cell_type": "markdown",
   "id": "584a5aa4",
   "metadata": {},
   "source": [
    "https://www.kaggle.com/code/punit0811/machine-learning-project-basic-linear-regression"
   ]
  },
  {
   "cell_type": "markdown",
   "id": "7fb22197",
   "metadata": {},
   "source": [
    "There is an e-commerce company and I want to study what factors affect the total amount of money customers spend in a specific year. We can investigate the relationship between average session length, time spent in the app and time spent on the website, and how much customers spend per year. This can give us an idea of whether longer interaction time means higher consumption. We can also estimate average annual spend Estimating average annual spend across all customers can provide insight into overall customer value. I am also interested in the relationship between time spent using an app and the amount spent per year."
   ]
  },
  {
   "cell_type": "markdown",
   "id": "d5c1430f",
   "metadata": {},
   "source": [
    "I plan to explore how muchto spend each vear, This yariable represents the total amount of money spent by eachcustomer in a year. I plan to calculate the mean, median, and standard deviation to understand spendina patternsand analyze the distribution to identify any outliers or trends. Finally, customers were segmented based onspending levels to examine different behaviors. This variable is a direct measure of customer value andprofitability. It helps identify high-value customers and provide better recommendations to customers.I can use a histogram, a visualization that shows the distribution of annual spending, to be able to quickly seethe shape ot the distribution and whether there are any outliers. I can also use boxplots to more visually see themedians to compare spending by different customer groups."
   ]
  },
  {
   "cell_type": "markdown",
   "id": "fa45506e",
   "metadata": {},
   "source": [
    "To analyze the relationship between customer engagement metrics and the yearly amount spent, I will choose linearregression analysis."
   ]
  },
  {
   "cell_type": "markdown",
   "id": "7b708d72",
   "metadata": {},
   "source": [
    "\"How do customer engagement metrics (time on app, time on website, length of membership, and average session length) affect the yearly amount spent by customers?\"\n",
    "Ho (Null Hypothesis): There is no significant relationship between customer engagement metrics (time on app, time on website, length of membership, and average session length) and the yearly amount spent.\n",
    "H1 (Alternative Hypothesis): There is a significant positive relationship between customer engagement metrics and the yearly amount spent by customers."
   ]
  },
  {
   "cell_type": "markdown",
   "id": "d6f58170",
   "metadata": {},
   "source": [
    "https://afatsumcemreg.medium.com/hypothesis-testing=with-mens-and-women-s-soccer-matches-a-datacamp_project-284eec95835d"
   ]
  },
  {
   "cell_type": "markdown",
   "id": "49c09f45",
   "metadata": {},
   "source": [
    "\"Are more goals scored in women's international soccer matches than in men's?\"\n",
    "1.Are there specific trends in goal-scoring rates across men's and women's football matches over different periods of time? 2.What factors influence the results of men's and women's football matches?\n",
    "1.Average goals per match in men's and women's international football. This parameter will help understand overall score trends and compare performance between genders. 2. The variance or standard deviation of goals scored in men's and women's matches. This can reveal the consistency of scores within each category and highlight whether one gender tends to make high-scoring or low-scoring matches.\n",
    "I still interested in Analyzing the relationship between the average number of years of international playing for a\n",
    "team's players and match results."
   ]
  },
  {
   "cell_type": "markdown",
   "id": "07568eda",
   "metadata": {},
   "source": [
    "Mean, Median and Standard Deviation: These summary statistics provide a quick overview of the central trends and changes in goals scored across games. Understanding average goals scored can help determine overall scoring trends and highlight the differences between men's and women's football.\n",
    "We can use a scatter plot: Our aim is the relationship between team experience and number of goals scored.\n",
    "Why: Scatterplots can visually show potential correlations between goals scored and other factors. This can help determine whether higher team experience or specific player metrics correlate with increased scoring."
   ]
  },
  {
   "cell_type": "markdown",
   "id": "80bba606",
   "metadata": {},
   "source": [
    "Independent samples t-test \"To compare the average number of goals scored between two groups (for example, men vs. women), I will conduct anindependent samples t-test."
   ]
  },
  {
   "cell_type": "markdown",
   "id": "ec6d0007",
   "metadata": {},
   "source": [
    "Are more goals scored in women's international soccer matches than in men's?Null Hypothesis (H8): The average number of goals scored in women's international football matches is notnumber of goals scored in men's international football matches.significantly different from the averageAlternative hypothesis(H1): Theaverage number of goals scored in women's international football matches issignificantly higher compared to men's international football matches."
   ]
  },
  {
   "cell_type": "markdown",
   "id": "a72dab50",
   "metadata": {},
   "source": [
    "https://medium.com/@ibezimchike/hypothesis-testing-in-sports-a-soccer-case-study-5065eb4703a"
   ]
  },
  {
   "cell_type": "markdown",
   "id": "4bddcff1",
   "metadata": {},
   "source": [
    "\"Is the average number of goals scored per game by Arsenal FC in their last 38 matches significantly different fromtheir historical average of 1.5 goals per game?\"1.Evaluate whether Arsenal's goals per game average in the last 38 games exceeds their historical average of 1.5goals per game..2.Evaluate the number of goals a team concedes per game to determine if defensive consistency has improved. Yes, there is a population parameter that I would like to estimatethe which is the demographic parameter ofinterest is Arsenal Football Club's average number of goals per game over the specified period. Studying how factors such as possession percentage, shooting accuracy and defensive statistics relate to wins andlosses can provide valuable insights into a team's dynamic performance."
   ]
  },
  {
   "cell_type": "markdown",
   "id": "171a9a9a",
   "metadata": {},
   "source": [
    "1.Goals per game reflects the team's offensive efficiency. By comparing the average number of goals scored inrecent matches with the historical average number of goalsscored,we can detect changes in offensiveperformance2.Goals conceded per game shows the solidity of the team's defense. Analyzing this metric can helpdetermine if Arsenal have improved on preventing goals compared to previous seasons. 3.shooting accuracy: Highershooting accuracy means more effective offense.We can use a scatter plot to look at shooting accuracy versus goals scored to identify correlations.Wecan also use Bar chart to compare possession rates across different aames or seasons to hiahliaht chanaes."
   ]
  },
  {
   "cell_type": "markdown",
   "id": "c1c25865",
   "metadata": {},
   "source": [
    "To evaluate the performance of Arsenal Football Club, I planned to conduct an independent samples t-test to compare the team's metrics in two different periods (first 15 games and subsequent 15 games).\n",
    "question: Is there a significant difference in Arsenal FC's performance metrics between the first 15 matches and\n",
    "the subsequent 15 matches?"
   ]
  },
  {
   "cell_type": "markdown",
   "id": "52b2106b",
   "metadata": {},
   "source": [
    "Null Hypothesis (Ho): The average goals scored per match in the first 15 matches is equal to that in the subsequent\n",
    "15 matches.\n",
    "Alternative Hypothesis (H1): The average goals scored per match in the first 15 matches is different from that in\n",
    "the subsequent 15 matches."
   ]
  }
 ],
 "metadata": {
  "kernelspec": {
   "display_name": "Python 3 (ipykernel)",
   "language": "python",
   "name": "python3"
  },
  "language_info": {
   "codemirror_mode": {
    "name": "ipython",
    "version": 3
   },
   "file_extension": ".py",
   "mimetype": "text/x-python",
   "name": "python",
   "nbconvert_exporter": "python",
   "pygments_lexer": "ipython3",
   "version": "3.11.6"
  }
 },
 "nbformat": 4,
 "nbformat_minor": 5
}
