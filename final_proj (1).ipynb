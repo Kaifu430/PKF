{
 "cells": [
  {
   "cell_type": "code",
   "execution_count": null,
   "metadata": {
    "id": "gzWx0Nqgwpfp"
   },
   "outputs": [],
   "source": [
    "# Y - wellness_satisfaction use dataV2_cohortV4_wideV2"
   ]
  },
  {
   "cell_type": "code",
   "execution_count": null,
   "metadata": {
    "id": "YGXTn1Khw3cf"
   },
   "outputs": [],
   "source": [
    "\n",
    "import pandas as pd\n",
    "cols = pd.read_csv(\"https://raw.githubusercontent.com/pointOfive/stat130chat130/main/CP/var_names.csv\")\n",
    "data = pd.read_csv(\"https://raw.githubusercontent.com/pointOfive/stat130chat130/main/CP/CSCS_data_anon.csv\",\n",
    "                   na_values=[\"9999\", \"\", \" \", \"Presented but no response\", \"NA\"])\n",
    "empty = (data.isna().sum()==data.shape[0])\n",
    "data = data[empty.index[~empty]] # keep non empty columns only\n",
    "data.shape"
   ]
  },
  {
   "cell_type": "code",
   "execution_count": null,
   "metadata": {
    "id": "jM--gyITxGz8"
   },
   "outputs": [],
   "source": [
    "data.SURVEY_random_id.notna().value_counts()\n",
    "dataV2 = data[data.REMOVE_case=='No'].copy()\n",
    "dataV2.shape"
   ]
  },
  {
   "cell_type": "code",
   "execution_count": null,
   "metadata": {
    "id": "OfdpvtKXxd-B"
   },
   "outputs": [],
   "source": [
    "dataV2_cohort = dataV2[dataV2.SURVEY_cohort_participant].copy()\n",
    "dataV2_cohort.shape\n",
    "\n",
    "# And remove year 2023 for which there's not yet much data collected\n",
    "dataV2_cohortV2 = dataV2_cohort[dataV2_cohort.SURVEY_collection_year!=2023].copy()\n",
    "dataV2_cohortV2.shape\n",
    "\n",
    "# And remove columns that have less than some number of missing values\n",
    "# We could consider no missing values using 850, or...?\n",
    "missingness_limit = 100 # this retains 166 of 1024 columns that aren't fully empty\n",
    "columns2keep = dataV2_cohortV2.isna().sum() < missingness_limit\n",
    "columns2keep = columns2keep.index[columns2keep]\n",
    "dataV2_cohortV3 = dataV2_cohortV2[columns2keep].copy()\n",
    "dataV2_cohortV3.shape\n",
    "\n",
    "# The data itself then looks like this\n",
    "pd.set_option('display.max_columns', dataV2_cohortV3.shape[1]) # Can cause jupyter notebooks to crash\n",
    "# DO NOT USE in conjuection with pd.set_option('display.max_rows', 1000)\n",
    "dataV2_cohortV3"
   ]
  },
  {
   "cell_type": "code",
   "execution_count": null,
   "metadata": {
    "id": "2xSSRjMXxp3g"
   },
   "outputs": [],
   "source": [
    "dataV2_cohortV3.groupby('SURVEY_collection_type').size()\n",
    "SURVEY_collection_type\n",
    "\n",
    "import plotly.express as px\n",
    "\n",
    "fig = px.box(dataV2_cohortV3[dataV2_cohortV3.Secs_per_q<30],\n",
    "             x='SURVEY_collection_type', y='Secs_per_q')\n",
    "fig.update_layout(xaxis_title='SURVEY_YEAR', yaxis_title='Secs_per_q',\n",
    "                  title='Boxplot of Secs_per_q by SURVEY_YEAR').show()"
   ]
  },
  {
   "cell_type": "code",
   "execution_count": null,
   "metadata": {
    "id": "CSlZIcBpxrl4"
   },
   "outputs": [],
   "source": [
    "dataV2_cohortV4 = dataV2_cohortV3[dataV2_cohortV3.Secs_per_q<30].copy()\n",
    "dataV2_cohortV4.loc[:, 'SURVEY_YEAR'] = (dataV2_cohortV4.SURVEY_collection_type+\" \"+dataV2_cohortV4.SURVEY_collection_year.astype(str)).values\n",
    "# dataV2_cohortV4.SURVEY_YEAR.value_counts()\n",
    "# SURVEY_YEAR\n",
    "# cohort 2022    446\n",
    "# cross 2021     368\n",
    "\n",
    "# we'll focus on some of the numeric outcomes in the data set... including Secs_per_q\n",
    "dataV2_cohortV4_wide = \\\n",
    "dataV2_cohortV4.melt(id_vars=['UNIQUE_id','SURVEY_YEAR'],\n",
    "                     value_vars=['Secs_per_q',\n",
    "                                'LONELY_ucla_loneliness_scale_score',\n",
    "                                'WELLNESS_life_satisfaction',\n",
    "                                'WELLNESS_malach_pines_burnout_measure_score',\n",
    "                                'LONELY_dejong_emotional_social_loneliness_scale_score',\n",
    "                                'LONELY_dejong_emotional_loneliness_sub_scale_score',\n",
    "                                'LONELY_dejong_social_loneliness_sub_scale_score',\n",
    "                                'PSYCH_zimet_multidimensional_social_support_scale_score',\n",
    "                                'PSYCH_zimet_multidimensional_social_support_family_subscale_score',\n",
    "                                'PSYCH_zimet_multidimensional_social_support_significant_other_subscale_score',\n",
    "                                'PSYCH_zimet_multidimensional_social_support_friends_subscale_score',\n",
    "                                'WELLNESS_subjective_happiness_scale_score',\n",
    "                                'WELLNESS_phq_score', 'WELLNESS_gad_score'])\n",
    "# and we'll put these in columns for \"cross 2021\" and \"cohort 2022\"\n",
    "dataV2_cohortV4_wide['variable'] = dataV2_cohortV4_wide['variable'] + \" (\"+dataV2_cohortV4_wide['SURVEY_YEAR']+\")\"\n",
    "# on the basis of UNIQUE_id which links individuals across studies\n",
    "dataV2_cohortV4_wide = dataV2_cohortV4_wide.pivot(index='UNIQUE_id', columns='variable', values='value')\n",
    "# and consider fully observed data only\n",
    "dataV2_cohortV4_wideV2 = dataV2_cohortV4_wide.dropna()\n",
    "dataV2_cohortV4_wideV2"
   ]
  },
  {
   "cell_type": "code",
   "execution_count": null,
   "metadata": {
    "id": "f04mC2Yux03K"
   },
   "outputs": [],
   "source": [
    "# This could be used for the proportion of a paired differences test...\n",
    "(dataV2_cohortV4_wideV2['Secs_per_q (cohort 2022)']>\n",
    " dataV2_cohortV4_wideV2['Secs_per_q (cross 2021)']).sum(), dataV2_cohortV4_wideV2.shape[0]\n",
    "\n",
    "# This could be used for the proportion for a test of \"random coin flipping\"\n",
    "col = 'Wellness_life_satisfaction'\n",
    "(dataV2_cohortV4_wideV2[col]>1).sum(), dataV2_cohortV4_wideV2.shape[0]\n",
    "\n",
    "dataV2_cohortV4_wideV2['Wellness_life_satisfaction (cohort 2022)'].value_counts()\n",
    "# histogram of Wellness_life_satisfaction\n",
    "px.histogram(dataV2_cohortV4_wideV2, x='Wellness_life_satisfaction (cohort 2022)')"
   ]
  },
  {
   "cell_type": "code",
   "execution_count": null,
   "metadata": {
    "id": "do5guQm0x-Wc"
   },
   "outputs": [],
   "source": [
    "dataV2_cohortV4_wideV2.dropna(inplace=True)\n",
    "#scatter plot\n",
    "COVID_prevention_distancing，COVID_vaccinated，COVID_prevention_household，LONELY_change_pre_covid，\n",
    "WELLNESS_self_rated_mental_health，WELLNESS_self_rated_physical_health，LONELY_ucla_loneliness_scale_score，\n",
    "PSYCH_zimet_multidimensional_social_support_scale_score，CONNECTION_activities_community_pm\n",
    "It is best that all variables are numerical\n",
    "px.scatter(dataV2_cohortV4_wideV2, x='WELLNESS_self_rated_mental_health', y='Wellness_life_satisfaction')\n",
    "#corplot correlation plot Look at the relationship between y and each x\n",
    "px.imshow(dataV2_cohortV4_wideV2.corr())\n",
    "#smf.ols(model)\n",
    "#AIC, BIC, R square (0.6)"
   ]
  },
  {
   "cell_type": "code",
   "execution_count": null,
   "metadata": {
    "id": "FUzANQh71AlC"
   },
   "outputs": [],
   "source": [
    "#2021 compare 2022\n",
    "# based on coefficient， If the coeff in 2022 is large (+) and the coeff in 2021 is small, people gradually accept take action to prevent during covid, 2022 after covid\n",
    "mlr = smf.ols(formula='Wellness_life_satisfaction ~ COVID_prevention_distancing + COVID_vaccinated+COVID_prevention_household+LONELY_change_pre_covid+WELLNESS_self_rated_mental_health+WELLNESS_self_rated_physical_health+LONELY_ucla_loneliness_scale_score+PSYCH_zimet_multidimensional_social_support_scale_score+CONNECTION_activities_community_pm',data=dataV2_cohortV4_wideV2)\n",
    "mlr_fit = mlr.fit() y= 20+3.2x, 20+x\n",
    "mlr_fit.summary()"
   ]
  },
  {
   "cell_type": "code",
   "execution_count": null,
   "metadata": {
    "id": "eY2jaS9I1hX5"
   },
   "outputs": [],
   "source": [
    "decision tree make prediction，classification\n",
    "# compare with mlr\n",
    "# limitation（wrote on the slides）: mlr no multicollinearity , The |correlation| between xi should be small, corplot, in general we did not check this assumption\n",
    "# normality: residual qqplot\n",
    "# equal variance：qqplot\n",
    "# no check linear regression assumption\n",
    "# There may be a non-linear relationship between variables X and Y, but we have not learned other relationships, so this is also a limitation."
   ]
  },
  {
   "cell_type": "code",
   "execution_count": null,
   "metadata": {
    "id": "zgKwBJjG5Ujd"
   },
   "outputs": [],
   "source": [
    "Intro：research question+data summary+population+Why choose this topic+picture\n",
    "Method：choose what model，what exactly do\n",
    "Result：on the base of model，mlr need to write linear regresssion，and write 95%CI，parameter（R square， AIC， BIC）\n",
    "Interpretation（conclusion samiliar）：interpret the result，and check weather have linear relationship（based on p value）if want to compare，explian the difference，pvalue，corrcoef\n",
    "limitation: model limitation, research question limitation, graph limitation(graph display Some limitations came out)\n",
    "12.2 due"
   ]
  },
  {
   "cell_type": "code",
   "execution_count": null,
   "metadata": {
    "id": "aIOovPwE5WAH"
   },
   "outputs": [],
   "source": []
  }
 ],
 "metadata": {
  "colab": {
   "provenance": []
  },
  "kernelspec": {
   "display_name": "Python 3 (ipykernel)",
   "language": "python",
   "name": "python3"
  },
  "language_info": {
   "codemirror_mode": {
    "name": "ipython",
    "version": 3
   },
   "file_extension": ".py",
   "mimetype": "text/x-python",
   "name": "python",
   "nbconvert_exporter": "python",
   "pygments_lexer": "ipython3",
   "version": "3.11.6"
  }
 },
 "nbformat": 4,
 "nbformat_minor": 1
}
